{
 "cells": [
  {
   "cell_type": "markdown",
   "metadata": {},
   "source": [
    "# KNN Algorithm using numpy and pandas\n",
    "\n",
    "Bhavishya Sharma           11811256           TY_A_31\n",
    "\n",
    "## Importing libraries"
   ]
  },
  {
   "cell_type": "code",
   "execution_count": 455,
   "metadata": {},
   "outputs": [],
   "source": [
    "from sklearn.metrics import accuracy_score\n",
    "from sklearn.preprocessing import StandardScaler\n",
    "from sklearn.neighbors import KNeighborsClassifier\n",
    "\n",
    "import pandas as pd\n",
    "import numpy as np\n",
    "import matplotlib.pyplot as plt\n",
    "\n",
    "import warnings\n",
    "warnings.filterwarnings('ignore')"
   ]
  },
  {
   "cell_type": "markdown",
   "metadata": {},
   "source": [
    "## Importing dataset   "
   ]
  },
  {
   "cell_type": "code",
   "execution_count": 456,
   "metadata": {},
   "outputs": [
    {
     "data": {
      "text/html": [
       "<div>\n",
       "<style scoped>\n",
       "    .dataframe tbody tr th:only-of-type {\n",
       "        vertical-align: middle;\n",
       "    }\n",
       "\n",
       "    .dataframe tbody tr th {\n",
       "        vertical-align: top;\n",
       "    }\n",
       "\n",
       "    .dataframe thead th {\n",
       "        text-align: right;\n",
       "    }\n",
       "</style>\n",
       "<table border=\"1\" class=\"dataframe\">\n",
       "  <thead>\n",
       "    <tr style=\"text-align: right;\">\n",
       "      <th></th>\n",
       "      <th>Age</th>\n",
       "      <th>EstimatedSalary</th>\n",
       "      <th>Purchased</th>\n",
       "    </tr>\n",
       "  </thead>\n",
       "  <tbody>\n",
       "    <tr>\n",
       "      <th>0</th>\n",
       "      <td>19</td>\n",
       "      <td>19000</td>\n",
       "      <td>0</td>\n",
       "    </tr>\n",
       "    <tr>\n",
       "      <th>1</th>\n",
       "      <td>35</td>\n",
       "      <td>20000</td>\n",
       "      <td>0</td>\n",
       "    </tr>\n",
       "    <tr>\n",
       "      <th>2</th>\n",
       "      <td>26</td>\n",
       "      <td>43000</td>\n",
       "      <td>0</td>\n",
       "    </tr>\n",
       "    <tr>\n",
       "      <th>3</th>\n",
       "      <td>27</td>\n",
       "      <td>57000</td>\n",
       "      <td>0</td>\n",
       "    </tr>\n",
       "    <tr>\n",
       "      <th>4</th>\n",
       "      <td>19</td>\n",
       "      <td>76000</td>\n",
       "      <td>0</td>\n",
       "    </tr>\n",
       "  </tbody>\n",
       "</table>\n",
       "</div>"
      ],
      "text/plain": [
       "   Age  EstimatedSalary  Purchased\n",
       "0   19            19000          0\n",
       "1   35            20000          0\n",
       "2   26            43000          0\n",
       "3   27            57000          0\n",
       "4   19            76000          0"
      ]
     },
     "execution_count": 456,
     "metadata": {},
     "output_type": "execute_result"
    }
   ],
   "source": [
    "df=pd.read_csv('knn data set.csv')\n",
    "df.head()"
   ]
  },
  {
   "cell_type": "code",
   "execution_count": 457,
   "metadata": {},
   "outputs": [
    {
     "name": "stdout",
     "output_type": "stream",
     "text": [
      "<class 'pandas.core.frame.DataFrame'>\n",
      "RangeIndex: 400 entries, 0 to 399\n",
      "Data columns (total 3 columns):\n",
      " #   Column           Non-Null Count  Dtype\n",
      "---  ------           --------------  -----\n",
      " 0   Age              400 non-null    int64\n",
      " 1   EstimatedSalary  400 non-null    int64\n",
      " 2   Purchased        400 non-null    int64\n",
      "dtypes: int64(3)\n",
      "memory usage: 9.5 KB\n"
     ]
    }
   ],
   "source": [
    "df.info()"
   ]
  },
  {
   "cell_type": "markdown",
   "metadata": {},
   "source": [
    "## Function for splitting the dataset according to ratio"
   ]
  },
  {
   "cell_type": "code",
   "execution_count": 458,
   "metadata": {},
   "outputs": [
    {
     "data": {
      "text/html": [
       "<div>\n",
       "<style scoped>\n",
       "    .dataframe tbody tr th:only-of-type {\n",
       "        vertical-align: middle;\n",
       "    }\n",
       "\n",
       "    .dataframe tbody tr th {\n",
       "        vertical-align: top;\n",
       "    }\n",
       "\n",
       "    .dataframe thead th {\n",
       "        text-align: right;\n",
       "    }\n",
       "</style>\n",
       "<table border=\"1\" class=\"dataframe\">\n",
       "  <thead>\n",
       "    <tr style=\"text-align: right;\">\n",
       "      <th></th>\n",
       "      <th>Age</th>\n",
       "      <th>EstimatedSalary</th>\n",
       "      <th>Purchased</th>\n",
       "    </tr>\n",
       "  </thead>\n",
       "  <tbody>\n",
       "    <tr>\n",
       "      <th>342</th>\n",
       "      <td>38</td>\n",
       "      <td>65000</td>\n",
       "      <td>0</td>\n",
       "    </tr>\n",
       "    <tr>\n",
       "      <th>254</th>\n",
       "      <td>50</td>\n",
       "      <td>44000</td>\n",
       "      <td>0</td>\n",
       "    </tr>\n",
       "    <tr>\n",
       "      <th>185</th>\n",
       "      <td>31</td>\n",
       "      <td>66000</td>\n",
       "      <td>0</td>\n",
       "    </tr>\n",
       "    <tr>\n",
       "      <th>292</th>\n",
       "      <td>55</td>\n",
       "      <td>39000</td>\n",
       "      <td>1</td>\n",
       "    </tr>\n",
       "    <tr>\n",
       "      <th>371</th>\n",
       "      <td>60</td>\n",
       "      <td>83000</td>\n",
       "      <td>1</td>\n",
       "    </tr>\n",
       "  </tbody>\n",
       "</table>\n",
       "</div>"
      ],
      "text/plain": [
       "     Age  EstimatedSalary  Purchased\n",
       "342   38            65000          0\n",
       "254   50            44000          0\n",
       "185   31            66000          0\n",
       "292   55            39000          1\n",
       "371   60            83000          1"
      ]
     },
     "execution_count": 458,
     "metadata": {},
     "output_type": "execute_result"
    }
   ],
   "source": [
    "def split_dataset(df,ratio):\n",
    "    train = df.sample(frac=ratio)  # random sample data is generated according to ratio \n",
    "    test = df.drop(train.index)    # Dropping the train index from df to get remaining\n",
    "    return train, test\n",
    "\n",
    "train_data, test_data = split_dataset(df,0.7)\n",
    "train_data.head()"
   ]
  },
  {
   "cell_type": "code",
   "execution_count": 459,
   "metadata": {},
   "outputs": [
    {
     "data": {
      "text/html": [
       "<div>\n",
       "<style scoped>\n",
       "    .dataframe tbody tr th:only-of-type {\n",
       "        vertical-align: middle;\n",
       "    }\n",
       "\n",
       "    .dataframe tbody tr th {\n",
       "        vertical-align: top;\n",
       "    }\n",
       "\n",
       "    .dataframe thead th {\n",
       "        text-align: right;\n",
       "    }\n",
       "</style>\n",
       "<table border=\"1\" class=\"dataframe\">\n",
       "  <thead>\n",
       "    <tr style=\"text-align: right;\">\n",
       "      <th></th>\n",
       "      <th>Age</th>\n",
       "      <th>EstimatedSalary</th>\n",
       "      <th>Purchased</th>\n",
       "    </tr>\n",
       "  </thead>\n",
       "  <tbody>\n",
       "    <tr>\n",
       "      <th>0</th>\n",
       "      <td>19</td>\n",
       "      <td>19000</td>\n",
       "      <td>0</td>\n",
       "    </tr>\n",
       "    <tr>\n",
       "      <th>4</th>\n",
       "      <td>19</td>\n",
       "      <td>76000</td>\n",
       "      <td>0</td>\n",
       "    </tr>\n",
       "    <tr>\n",
       "      <th>10</th>\n",
       "      <td>26</td>\n",
       "      <td>80000</td>\n",
       "      <td>0</td>\n",
       "    </tr>\n",
       "    <tr>\n",
       "      <th>11</th>\n",
       "      <td>26</td>\n",
       "      <td>52000</td>\n",
       "      <td>0</td>\n",
       "    </tr>\n",
       "    <tr>\n",
       "      <th>13</th>\n",
       "      <td>32</td>\n",
       "      <td>18000</td>\n",
       "      <td>0</td>\n",
       "    </tr>\n",
       "  </tbody>\n",
       "</table>\n",
       "</div>"
      ],
      "text/plain": [
       "    Age  EstimatedSalary  Purchased\n",
       "0    19            19000          0\n",
       "4    19            76000          0\n",
       "10   26            80000          0\n",
       "11   26            52000          0\n",
       "13   32            18000          0"
      ]
     },
     "execution_count": 459,
     "metadata": {},
     "output_type": "execute_result"
    }
   ],
   "source": [
    "test_data.head()"
   ]
  },
  {
   "cell_type": "markdown",
   "metadata": {},
   "source": [
    "### Further splitting the train and test data into features as X and target as Y "
   ]
  },
  {
   "cell_type": "code",
   "execution_count": 460,
   "metadata": {},
   "outputs": [
    {
     "name": "stdout",
     "output_type": "stream",
     "text": [
      "Features of train       Age  EstimatedSalary\n",
      "342   38            65000\n",
      "254   50            44000\n",
      "185   31            66000\n",
      "292   55            39000\n",
      "371   60            83000\n",
      "Target of train  342    0\n",
      "254    0\n",
      "185    0\n",
      "292    1\n",
      "371    1\n",
      "Name: Purchased, dtype: int64\n",
      "Features of test      Age  EstimatedSalary\n",
      "0    19            19000\n",
      "4    19            76000\n",
      "10   26            80000\n",
      "11   26            52000\n",
      "13   32            18000\n",
      "Target of test  0     0\n",
      "4     0\n",
      "10    0\n",
      "11    0\n",
      "13    0\n",
      "Name: Purchased, dtype: int64\n"
     ]
    }
   ],
   "source": [
    "X_train = train_data.iloc[:, :-1] # Features of train\n",
    "y_train = train_data.iloc[:, -1]  # Target of train\n",
    "X_test = test_data.iloc[:, :-1]   # Features of test\n",
    "y_test = test_data.iloc[:, -1]    # Target of test\n",
    "print('Features of train ',X_train[:5])\n",
    "print('Target of train ',y_train[:5])\n",
    "print('Features of test ',X_test[:5])\n",
    "print('Target of test ',y_test[:5])"
   ]
  },
  {
   "cell_type": "markdown",
   "metadata": {},
   "source": [
    "## Function for finding euclidean distance\n",
    "\n",
    "Eculidean Formula = sqrt( { (x1-x2)^2 + (y1-y2)^2 } )\n",
    "\n",
    "Subracting each test row as 'b' from the whole train dataset 'a'  \n",
    "Then squaring the result and then summing each row \n",
    "\n",
    "Then returning the square root of the sum \n",
    "\n"
   ]
  },
  {
   "cell_type": "code",
   "execution_count": 461,
   "metadata": {},
   "outputs": [],
   "source": [
    "def euclidean_dist(a,b):\n",
    "    instance=np.square(a.subtract(b,axis=1))\n",
    "    d=[]\n",
    "    d=list((instance.sum(axis=1))**0.5);\n",
    "    return d"
   ]
  },
  {
   "cell_type": "markdown",
   "metadata": {},
   "source": [
    "## Predicting and checking for one test case"
   ]
  },
  {
   "cell_type": "code",
   "execution_count": 462,
   "metadata": {},
   "outputs": [
    {
     "name": "stdout",
     "output_type": "stream",
     "text": [
      "    Age  EstimatedSalary         dist  target\n",
      "66   24            19000     5.000000       0\n",
      "45   23            20000  1000.008000       0\n",
      "60   27            20000  1000.031999       0\n",
      "29   31            18000  1000.071997       0\n",
      "74   32            18000  1000.084496       0\n",
      "Predicted value:  0\n",
      "is correct? :  True\n"
     ]
    }
   ],
   "source": [
    "# Store distance of test data point from train data points\n",
    "dist=euclidean_dist(X_train,X_test.iloc[0])\n",
    "\n",
    "# Creating dist column to store distance and target to store original target of train data set\n",
    "X_train['dist']=dist\n",
    "X_train['target']=y_train\n",
    "\n",
    "# Storing top 5 neigbours of train data set with distance and target \n",
    "k_neighbors=X_train.sort_values(by='dist')[:5]\n",
    "\n",
    "# Printing top 5 neighbours \n",
    "print(k_neighbors)\n",
    "\n",
    "# Find max occurance of target (0 or 1 in this case) [Predicted value]\n",
    "predict=int(k_neighbors['target'].mode())\n",
    "print('Predicted value: ',predict)\n",
    "\n",
    "# Finding if the prediction is correct or not(Accuracy of model)\n",
    "iscorrect=int(y_test.iloc[0])==predict\n",
    "print('is correct? : ',iscorrect)"
   ]
  },
  {
   "cell_type": "markdown",
   "metadata": {},
   "source": [
    "## Function for predicting for the whole test data set"
   ]
  },
  {
   "cell_type": "code",
   "execution_count": 463,
   "metadata": {},
   "outputs": [],
   "source": [
    "def KNN(X_train,X_test,y_train,k):\n",
    "    \n",
    "    prediction=[]\n",
    "    \n",
    "    # for every row of test we will predict a value\n",
    "    for x in range(X_test.shape[0]): \n",
    "        \n",
    "        # Finding eculidean distance of each test case with whole train data\n",
    "        dist=euclidean_dist(X_train,X_test.iloc[x])  \n",
    "        \n",
    "        X_train['dist']=dist                         # Column of distances\n",
    "        X_train['target']=y_train                    # Column of original target values\n",
    "        \n",
    "        k_neighbors=X_train.sort_values(by='dist')[:k]  # Getting closest K neigbours\n",
    "        predict=int(k_neighbors['target'].mode())       # Predicting based on max occurance of target \n",
    "        prediction.append(predict)                      # Storing each prediction in a list 'prediction'\n",
    "    \n",
    "    # Dropping the columns we made as no longer required\n",
    "    X_train.drop(['dist','target'],axis='columns', inplace=True)        \n",
    "    \n",
    "    return prediction"
   ]
  },
  {
   "cell_type": "code",
   "execution_count": 464,
   "metadata": {},
   "outputs": [
    {
     "name": "stdout",
     "output_type": "stream",
     "text": [
      "[0, 0, 0, 0, 0, 1, 1, 0, 1, 1, 0, 0, 1, 1, 0, 0, 0, 0, 0, 0, 0, 0, 0, 1, 0, 0, 0, 0, 0, 0, 0, 0, 0, 0, 0, 0, 0, 0, 0, 0, 0, 0, 0, 0, 0, 1, 0, 1, 0, 0, 1, 1, 1, 0, 0, 0, 0, 0, 1, 0, 1, 1, 0, 1, 1, 0, 1, 0, 0, 0, 1, 1, 0, 0, 0, 1, 0, 1, 0, 1, 0, 1, 0, 1, 0, 0, 0, 0, 0, 1, 0, 1, 1, 0, 1, 1, 0, 0, 0, 0, 0, 0, 1, 0, 0, 1, 1, 1, 0, 1, 0, 0, 1, 0, 1, 1, 0, 0, 0, 0]\n"
     ]
    }
   ],
   "source": [
    "y_pred=KNN(X_train,X_test,y_train,3)\n",
    "print(y_pred)"
   ]
  },
  {
   "cell_type": "code",
   "execution_count": 465,
   "metadata": {},
   "outputs": [
    {
     "name": "stdout",
     "output_type": "stream",
     "text": [
      "[0, 0, 0, 0, 0, 1, 1, 1, 1, 1, 0, 0, 0, 0, 0, 0, 0, 0, 0, 0, 0, 0, 0, 1, 0, 0, 0, 0, 0, 0, 0, 0, 0, 0, 0, 0, 0, 0, 0, 0, 0, 0, 0, 0, 0, 0, 0, 1, 0, 0, 0, 0, 0, 0, 0, 0, 0, 0, 1, 0, 1, 1, 0, 0, 1, 0, 1, 1, 0, 0, 1, 1, 0, 1, 1, 1, 1, 1, 0, 1, 0, 1, 1, 1, 1, 1, 1, 0, 0, 1, 0, 1, 1, 0, 1, 1, 0, 0, 1, 0, 1, 1, 1, 1, 0, 1, 1, 1, 0, 1, 0, 1, 1, 0, 1, 1, 1, 0, 1, 0]\n"
     ]
    }
   ],
   "source": [
    "print(list(y_test))"
   ]
  },
  {
   "cell_type": "markdown",
   "metadata": {},
   "source": [
    "## Function for finding the accuracy of the model"
   ]
  },
  {
   "cell_type": "code",
   "execution_count": 466,
   "metadata": {},
   "outputs": [],
   "source": [
    "def accuracy(y_test,y_pred):\n",
    "    c=0\n",
    "    t=0\n",
    "    for i in range(len(y_test)):    \n",
    "        t+=1\n",
    "        if(y_test[i]==y_pred[i]):\n",
    "            c+=1\n",
    "    return c*100.0/t\n"
   ]
  },
  {
   "cell_type": "code",
   "execution_count": 467,
   "metadata": {},
   "outputs": [
    {
     "name": "stdout",
     "output_type": "stream",
     "text": [
      "Accuracy : 80.83333333333333 %\n"
     ]
    }
   ],
   "source": [
    "print('Accuracy :',accuracy(list(y_test),y_pred),'%')"
   ]
  },
  {
   "cell_type": "markdown",
   "metadata": {},
   "source": [
    "The accuracy of the model is low.\n",
    "We observe that the features of train dataset have huge difference between them so we can scale the features to improve the accuracy of the model"
   ]
  },
  {
   "cell_type": "markdown",
   "metadata": {},
   "source": [
    "## Scaling data to improve accuracy "
   ]
  },
  {
   "cell_type": "code",
   "execution_count": 468,
   "metadata": {},
   "outputs": [],
   "source": [
    "sc = StandardScaler()\n",
    "\n",
    "X_train[X_train.columns] = sc.fit_transform(X_train[X_train.columns])\n",
    "X_test[X_test.columns] = sc.fit_transform(X_test[X_test.columns])"
   ]
  },
  {
   "cell_type": "code",
   "execution_count": 469,
   "metadata": {},
   "outputs": [
    {
     "data": {
      "text/html": [
       "<div>\n",
       "<style scoped>\n",
       "    .dataframe tbody tr th:only-of-type {\n",
       "        vertical-align: middle;\n",
       "    }\n",
       "\n",
       "    .dataframe tbody tr th {\n",
       "        vertical-align: top;\n",
       "    }\n",
       "\n",
       "    .dataframe thead th {\n",
       "        text-align: right;\n",
       "    }\n",
       "</style>\n",
       "<table border=\"1\" class=\"dataframe\">\n",
       "  <thead>\n",
       "    <tr style=\"text-align: right;\">\n",
       "      <th></th>\n",
       "      <th>Age</th>\n",
       "      <th>EstimatedSalary</th>\n",
       "    </tr>\n",
       "  </thead>\n",
       "  <tbody>\n",
       "    <tr>\n",
       "      <th>342</th>\n",
       "      <td>0.031874</td>\n",
       "      <td>-0.144020</td>\n",
       "    </tr>\n",
       "    <tr>\n",
       "      <th>254</th>\n",
       "      <td>1.195971</td>\n",
       "      <td>-0.766697</td>\n",
       "    </tr>\n",
       "    <tr>\n",
       "      <th>185</th>\n",
       "      <td>-0.647183</td>\n",
       "      <td>-0.114369</td>\n",
       "    </tr>\n",
       "    <tr>\n",
       "      <th>292</th>\n",
       "      <td>1.681012</td>\n",
       "      <td>-0.914953</td>\n",
       "    </tr>\n",
       "    <tr>\n",
       "      <th>371</th>\n",
       "      <td>2.166052</td>\n",
       "      <td>0.389702</td>\n",
       "    </tr>\n",
       "  </tbody>\n",
       "</table>\n",
       "</div>"
      ],
      "text/plain": [
       "          Age  EstimatedSalary\n",
       "342  0.031874        -0.144020\n",
       "254  1.195971        -0.766697\n",
       "185 -0.647183        -0.114369\n",
       "292  1.681012        -0.914953\n",
       "371  2.166052         0.389702"
      ]
     },
     "execution_count": 469,
     "metadata": {},
     "output_type": "execute_result"
    }
   ],
   "source": [
    "X_train.head()"
   ]
  },
  {
   "cell_type": "code",
   "execution_count": 470,
   "metadata": {},
   "outputs": [
    {
     "data": {
      "text/html": [
       "<div>\n",
       "<style scoped>\n",
       "    .dataframe tbody tr th:only-of-type {\n",
       "        vertical-align: middle;\n",
       "    }\n",
       "\n",
       "    .dataframe tbody tr th {\n",
       "        vertical-align: top;\n",
       "    }\n",
       "\n",
       "    .dataframe thead th {\n",
       "        text-align: right;\n",
       "    }\n",
       "</style>\n",
       "<table border=\"1\" class=\"dataframe\">\n",
       "  <thead>\n",
       "    <tr style=\"text-align: right;\">\n",
       "      <th></th>\n",
       "      <th>Age</th>\n",
       "      <th>EstimatedSalary</th>\n",
       "    </tr>\n",
       "  </thead>\n",
       "  <tbody>\n",
       "    <tr>\n",
       "      <th>0</th>\n",
       "      <td>-1.717911</td>\n",
       "      <td>-1.450086</td>\n",
       "    </tr>\n",
       "    <tr>\n",
       "      <th>4</th>\n",
       "      <td>-1.717911</td>\n",
       "      <td>0.187455</td>\n",
       "    </tr>\n",
       "    <tr>\n",
       "      <th>10</th>\n",
       "      <td>-1.071964</td>\n",
       "      <td>0.302371</td>\n",
       "    </tr>\n",
       "    <tr>\n",
       "      <th>11</th>\n",
       "      <td>-1.071964</td>\n",
       "      <td>-0.502036</td>\n",
       "    </tr>\n",
       "    <tr>\n",
       "      <th>13</th>\n",
       "      <td>-0.518295</td>\n",
       "      <td>-1.478815</td>\n",
       "    </tr>\n",
       "  </tbody>\n",
       "</table>\n",
       "</div>"
      ],
      "text/plain": [
       "         Age  EstimatedSalary\n",
       "0  -1.717911        -1.450086\n",
       "4  -1.717911         0.187455\n",
       "10 -1.071964         0.302371\n",
       "11 -1.071964        -0.502036\n",
       "13 -0.518295        -1.478815"
      ]
     },
     "execution_count": 470,
     "metadata": {},
     "output_type": "execute_result"
    }
   ],
   "source": [
    "X_test.head()"
   ]
  },
  {
   "cell_type": "markdown",
   "metadata": {},
   "source": [
    "### Effect on accuracy "
   ]
  },
  {
   "cell_type": "code",
   "execution_count": 471,
   "metadata": {},
   "outputs": [
    {
     "name": "stdout",
     "output_type": "stream",
     "text": [
      "[0, 0, 0, 0, 0, 1, 1, 1, 1, 1, 0, 0, 1, 0, 0, 0, 0, 0, 0, 0, 0, 0, 1, 1, 0, 0, 0, 0, 0, 0, 0, 0, 0, 0, 0, 0, 0, 0, 0, 0, 0, 0, 0, 0, 0, 0, 0, 1, 0, 0, 1, 0, 0, 0, 0, 0, 0, 0, 1, 1, 1, 1, 0, 1, 1, 0, 1, 1, 0, 0, 1, 1, 0, 1, 1, 1, 1, 1, 0, 1, 0, 1, 0, 1, 0, 1, 0, 0, 0, 1, 0, 1, 0, 0, 0, 1, 0, 0, 1, 0, 0, 0, 1, 1, 0, 1, 0, 1, 0, 1, 0, 0, 1, 0, 1, 1, 1, 0, 0, 0]\n"
     ]
    }
   ],
   "source": [
    "y_pred=KNN(X_train,X_test,y_train,3)\n",
    "print(y_pred)"
   ]
  },
  {
   "cell_type": "code",
   "execution_count": 472,
   "metadata": {},
   "outputs": [
    {
     "name": "stdout",
     "output_type": "stream",
     "text": [
      "[0, 0, 0, 0, 0, 1, 1, 1, 1, 1, 0, 0, 0, 0, 0, 0, 0, 0, 0, 0, 0, 0, 0, 1, 0, 0, 0, 0, 0, 0, 0, 0, 0, 0, 0, 0, 0, 0, 0, 0, 0, 0, 0, 0, 0, 0, 0, 1, 0, 0, 0, 0, 0, 0, 0, 0, 0, 0, 1, 0, 1, 1, 0, 0, 1, 0, 1, 1, 0, 0, 1, 1, 0, 1, 1, 1, 1, 1, 0, 1, 0, 1, 1, 1, 1, 1, 1, 0, 0, 1, 0, 1, 1, 0, 1, 1, 0, 0, 1, 0, 1, 1, 1, 1, 0, 1, 1, 1, 0, 1, 0, 1, 1, 0, 1, 1, 1, 0, 1, 0]\n",
      "Accuracy with scaling: 87.5\n"
     ]
    }
   ],
   "source": [
    "print(list(y_test))\n",
    "print(\"Accuracy with scaling:\",accuracy(list(y_test),y_pred))"
   ]
  },
  {
   "cell_type": "markdown",
   "metadata": {},
   "source": [
    "From above, we can observe that there is much improvement in accuracy of model when scaled"
   ]
  },
  {
   "cell_type": "markdown",
   "metadata": {},
   "source": [
    "## Comparing the result of our algorithm and the sklearn library "
   ]
  },
  {
   "cell_type": "code",
   "execution_count": 473,
   "metadata": {},
   "outputs": [
    {
     "name": "stdout",
     "output_type": "stream",
     "text": [
      "For  70.0 % split\n",
      " \n",
      "For K= 3\n",
      "Scracth:  84.16666666666667 %\n",
      "Library:  83.33333333333334 %\n",
      "For K= 5\n",
      "Scracth:  87.5 %\n",
      "Library:  87.5 %\n",
      "For K= 7\n",
      "Scracth:  87.5 %\n",
      "Library:  87.5 %\n",
      "\n",
      "\n"
     ]
    },
    {
     "data": {
      "image/png": "[encoded data removed]",
      "text/plain": [
       "<Figure size 432x288 with 1 Axes>"
      ]
     },
     "metadata": {
      "needs_background": "light"
     },
     "output_type": "display_data"
    },
    {
     "name": "stdout",
     "output_type": "stream",
     "text": [
      "For  75.0 % split\n",
      " \n",
      "For K= 3\n",
      "Scracth:  92.0 %\n",
      "Library:  92.0 %\n",
      "For K= 5\n",
      "Scracth:  92.0 %\n",
      "Library:  92.0 %\n",
      "For K= 7\n",
      "Scracth:  92.0 %\n",
      "Library:  92.0 %\n",
      "\n",
      "\n"
     ]
    },
    {
     "data": {
      "image/png": "[encoded data removed]",
      "text/plain": [
       "<Figure size 432x288 with 1 Axes>"
      ]
     },
     "metadata": {
      "needs_background": "light"
     },
     "output_type": "display_data"
    },
    {
     "name": "stdout",
     "output_type": "stream",
     "text": [
      "For  80.0 % split\n",
      " \n",
      "For K= 3\n",
      "Scracth:  87.5 %\n",
      "Library:  88.75 %\n",
      "For K= 5\n",
      "Scracth:  88.75 %\n",
      "Library:  88.75 %\n",
      "For K= 7\n",
      "Scracth:  86.25 %\n",
      "Library:  86.25 %\n",
      "\n",
      "\n"
     ]
    },
    {
     "data": {
      "image/png": "[encoded data removed]",
      "text/plain": [
       "<Figure size 432x288 with 1 Axes>"
      ]
     },
     "metadata": {
      "needs_background": "light"
     },
     "output_type": "display_data"
    }
   ],
   "source": [
    "split=[0.70,0.75,0.80]          \n",
    "\n",
    "\n",
    "for s in split:\n",
    "    \n",
    "    # Splitting data according to s %\n",
    "    train,test=split_dataset(df,s)\n",
    "    \n",
    "    X_train = train.iloc[:, :-1] # Features of train\n",
    "    y_train = train.iloc[:, -1]  # Target of train\n",
    "    X_test = test.iloc[:, :-1]   # Features of test\n",
    "    y_test = test.iloc[:, -1]    # Target of test\n",
    "    \n",
    "    # Scalling data \n",
    "    sc = StandardScaler()\n",
    "    X_train[X_train.columns] = sc.fit_transform(X_train[X_train.columns])\n",
    "    X_test[X_test.columns] = sc.fit_transform(X_test[X_test.columns])\n",
    "    \n",
    "    # Values of K for checking\n",
    "    K_vals=[3,5,7]\n",
    "    \n",
    "    # Prediction by our algorithm\n",
    "    pred_scratch=[]\n",
    "    \n",
    "    for k in K_vals:\n",
    "        pred=KNN(X_train,X_test,y_train,k)\n",
    "        pred_scratch.append(accuracy(list(y_test),pred))\n",
    "    \n",
    "    # Prediction by sklearn library\n",
    "    pred_lib=[]\n",
    "    \n",
    "    for k in K_vals:\n",
    "        classifier = KNeighborsClassifier(n_neighbors = k)\n",
    "        classifier.fit(X_train, y_train)\n",
    "        pred = classifier.predict(X_test)\n",
    "        pred_lib.append(accuracy_score(y_test,pred)*100)\n",
    "    \n",
    "    # Printing and Visualising the result \n",
    "    print(\"For \",(s*100),\"% split\\n \")\n",
    "    for i in range(len(K_vals)):\n",
    "        print(\"For K=\",K_vals[i])\n",
    "        print(\"Scracth: \",pred_scratch[i],'%')\n",
    "        print(\"Library: \",pred_lib[i],'%')\n",
    "    print('\\n')\n",
    "    plt.plot(K_vals,pred_scratch,color='r',label='Scratch',marker='x')\n",
    "    plt.plot(K_vals,pred_lib,color='g',label='Library',marker='o')\n",
    "    \n",
    "    plt.xlabel(\"K values\")\n",
    "    plt.ylabel(\"Acuracy %\")\n",
    "    plt.title(\"Accuracy varying over k\")\n",
    "    \n",
    "    plt.legend()\n",
    "    plt.show()\n",
    "    \n",
    "        "
   ]
  },
  {
   "cell_type": "markdown",
   "metadata": {},
   "source": [
    "## Conclusion\n",
    "\n",
    "Although you may see that in most splitting the accuracy is same but still there are some cases where it is not same(it depends on how the data is splitted randomly) \n",
    "In some cases it's more while in some it's less ( But the difference is small)"
   ]
  }
 ],
 "metadata": {
  "kernelspec": {
   "display_name": "Python 3",
   "language": "python",
   "name": "python3"
  },
  "language_info": {
   "codemirror_mode": {
    "name": "ipython",
    "version": 3
   },
   "file_extension": ".py",
   "mimetype": "text/x-python",
   "name": "python",
   "nbconvert_exporter": "python",
   "pygments_lexer": "ipython3",
   "version": "3.8.3"
  },
  "toc": {
   "base_numbering": 1,
   "nav_menu": {},
   "number_sections": true,
   "sideBar": true,
   "skip_h1_title": false,
   "title_cell": "Table of Contents",
   "title_sidebar": "Contents",
   "toc_cell": false,
   "toc_position": {},
   "toc_section_display": true,
   "toc_window_display": true
  }
 },
 "nbformat": 4,
 "nbformat_minor": 4
}
